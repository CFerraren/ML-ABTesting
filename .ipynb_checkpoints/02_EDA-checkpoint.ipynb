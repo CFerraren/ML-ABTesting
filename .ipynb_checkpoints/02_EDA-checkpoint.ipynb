{
 "cells": [
  {
   "cell_type": "markdown",
   "metadata": {},
   "source": [
    "#### Import Library"
   ]
  },
  {
   "cell_type": "code",
   "execution_count": 1,
   "metadata": {},
   "outputs": [],
   "source": [
    "import pandas as pd\n",
    "import numpy as np"
   ]
  },
  {
   "cell_type": "markdown",
   "metadata": {},
   "source": [
    "#### Load Data"
   ]
  },
  {
   "cell_type": "code",
   "execution_count": 2,
   "metadata": {},
   "outputs": [],
   "source": [
    "df1 = pd.read_excel('data/raw/PretestLexile_Final.xlsx')"
   ]
  },
  {
   "cell_type": "code",
   "execution_count": 3,
   "metadata": {},
   "outputs": [],
   "source": [
    "df2 = pd.read_excel('data/raw/InterimLexile_Final.xlsx')"
   ]
  },
  {
   "cell_type": "markdown",
   "metadata": {},
   "source": [
    "#### Print Sample"
   ]
  },
  {
   "cell_type": "code",
   "execution_count": 4,
   "metadata": {},
   "outputs": [
    {
     "data": {
      "text/html": [
       "<div>\n",
       "<style scoped>\n",
       "    .dataframe tbody tr th:only-of-type {\n",
       "        vertical-align: middle;\n",
       "    }\n",
       "\n",
       "    .dataframe tbody tr th {\n",
       "        vertical-align: top;\n",
       "    }\n",
       "\n",
       "    .dataframe thead th {\n",
       "        text-align: right;\n",
       "    }\n",
       "</style>\n",
       "<table border=\"1\" class=\"dataframe\">\n",
       "  <thead>\n",
       "    <tr style=\"text-align: right;\">\n",
       "      <th></th>\n",
       "      <th>adminyear</th>\n",
       "      <th>administrationtype</th>\n",
       "      <th>schoolshort</th>\n",
       "      <th>studentid</th>\n",
       "      <th>gradelevelduringadminyear</th>\n",
       "      <th>ell</th>\n",
       "      <th>lunch_recode</th>\n",
       "      <th>sped_recode</th>\n",
       "      <th>ethnicity_recode</th>\n",
       "      <th>score</th>\n",
       "      <th>lexilelevel</th>\n",
       "    </tr>\n",
       "  </thead>\n",
       "  <tbody>\n",
       "    <tr>\n",
       "      <th>0</th>\n",
       "      <td>1718</td>\n",
       "      <td>Pretest</td>\n",
       "      <td>BLOOMFIELD</td>\n",
       "      <td>455857</td>\n",
       "      <td>12</td>\n",
       "      <td>EL</td>\n",
       "      <td>Free/Reduced</td>\n",
       "      <td>Special Education</td>\n",
       "      <td>Hispanic or Latino</td>\n",
       "      <td>385</td>\n",
       "      <td>foundational_reader</td>\n",
       "    </tr>\n",
       "    <tr>\n",
       "      <th>1</th>\n",
       "      <td>1718</td>\n",
       "      <td>Pretest</td>\n",
       "      <td>BLOOMFIELD</td>\n",
       "      <td>455869</td>\n",
       "      <td>12</td>\n",
       "      <td>IFEP</td>\n",
       "      <td>Free/Reduced</td>\n",
       "      <td>Special Education</td>\n",
       "      <td>Hispanic or Latino</td>\n",
       "      <td>975</td>\n",
       "      <td>below_gl_4_6_yrs</td>\n",
       "    </tr>\n",
       "    <tr>\n",
       "      <th>2</th>\n",
       "      <td>1718</td>\n",
       "      <td>Pretest</td>\n",
       "      <td>BLOOMFIELD</td>\n",
       "      <td>455893</td>\n",
       "      <td>12</td>\n",
       "      <td>RFEP</td>\n",
       "      <td>Free/Reduced</td>\n",
       "      <td>Non-Special Education</td>\n",
       "      <td>Hispanic or Latino</td>\n",
       "      <td>1205</td>\n",
       "      <td>grade_level</td>\n",
       "    </tr>\n",
       "  </tbody>\n",
       "</table>\n",
       "</div>"
      ],
      "text/plain": [
       "   adminyear administrationtype schoolshort  studentid  \\\n",
       "0       1718            Pretest  BLOOMFIELD     455857   \n",
       "1       1718            Pretest  BLOOMFIELD     455869   \n",
       "2       1718            Pretest  BLOOMFIELD     455893   \n",
       "\n",
       "   gradelevelduringadminyear   ell  lunch_recode            sped_recode  \\\n",
       "0                         12    EL  Free/Reduced      Special Education   \n",
       "1                         12  IFEP  Free/Reduced      Special Education   \n",
       "2                         12  RFEP  Free/Reduced  Non-Special Education   \n",
       "\n",
       "     ethnicity_recode  score          lexilelevel  \n",
       "0  Hispanic or Latino    385  foundational_reader  \n",
       "1  Hispanic or Latino    975     below_gl_4_6_yrs  \n",
       "2  Hispanic or Latino   1205          grade_level  "
      ]
     },
     "execution_count": 4,
     "metadata": {},
     "output_type": "execute_result"
    }
   ],
   "source": [
    "df1[:3]"
   ]
  },
  {
   "cell_type": "code",
   "execution_count": 5,
   "metadata": {},
   "outputs": [
    {
     "data": {
      "text/html": [
       "<div>\n",
       "<style scoped>\n",
       "    .dataframe tbody tr th:only-of-type {\n",
       "        vertical-align: middle;\n",
       "    }\n",
       "\n",
       "    .dataframe tbody tr th {\n",
       "        vertical-align: top;\n",
       "    }\n",
       "\n",
       "    .dataframe thead th {\n",
       "        text-align: right;\n",
       "    }\n",
       "</style>\n",
       "<table border=\"1\" class=\"dataframe\">\n",
       "  <thead>\n",
       "    <tr style=\"text-align: right;\">\n",
       "      <th></th>\n",
       "      <th>adminyear</th>\n",
       "      <th>administrationtype</th>\n",
       "      <th>schoolshort</th>\n",
       "      <th>studentid</th>\n",
       "      <th>gradelevelduringadminyear</th>\n",
       "      <th>ell</th>\n",
       "      <th>lunch_recode</th>\n",
       "      <th>sped_recode</th>\n",
       "      <th>ethnicity_recode</th>\n",
       "      <th>score</th>\n",
       "      <th>lexilelevel</th>\n",
       "    </tr>\n",
       "  </thead>\n",
       "  <tbody>\n",
       "    <tr>\n",
       "      <th>0</th>\n",
       "      <td>1718</td>\n",
       "      <td>Interim</td>\n",
       "      <td>BAXTER</td>\n",
       "      <td>572545</td>\n",
       "      <td>12</td>\n",
       "      <td>EO</td>\n",
       "      <td>Free/Reduced</td>\n",
       "      <td>Non-Special Education</td>\n",
       "      <td>Hispanic or Latino</td>\n",
       "      <td>840</td>\n",
       "      <td>between_6_yrs_fr</td>\n",
       "    </tr>\n",
       "    <tr>\n",
       "      <th>1</th>\n",
       "      <td>1718</td>\n",
       "      <td>Interim</td>\n",
       "      <td>BAXTER</td>\n",
       "      <td>797185</td>\n",
       "      <td>9</td>\n",
       "      <td>EO</td>\n",
       "      <td>Paid</td>\n",
       "      <td>Special Education</td>\n",
       "      <td>Hispanic or Latino</td>\n",
       "      <td>755</td>\n",
       "      <td>below_gl_4_6_yrs</td>\n",
       "    </tr>\n",
       "    <tr>\n",
       "      <th>2</th>\n",
       "      <td>1718</td>\n",
       "      <td>Interim</td>\n",
       "      <td>BAXTER</td>\n",
       "      <td>714625</td>\n",
       "      <td>10</td>\n",
       "      <td>EO</td>\n",
       "      <td>Free/Reduced</td>\n",
       "      <td>Non-Special Education</td>\n",
       "      <td>Hispanic or Latino</td>\n",
       "      <td>760</td>\n",
       "      <td>between_6_yrs_fr</td>\n",
       "    </tr>\n",
       "  </tbody>\n",
       "</table>\n",
       "</div>"
      ],
      "text/plain": [
       "   adminyear administrationtype schoolshort  studentid  \\\n",
       "0       1718            Interim      BAXTER     572545   \n",
       "1       1718            Interim      BAXTER     797185   \n",
       "2       1718            Interim      BAXTER     714625   \n",
       "\n",
       "   gradelevelduringadminyear ell  lunch_recode            sped_recode  \\\n",
       "0                         12  EO  Free/Reduced  Non-Special Education   \n",
       "1                          9  EO          Paid      Special Education   \n",
       "2                         10  EO  Free/Reduced  Non-Special Education   \n",
       "\n",
       "     ethnicity_recode  score       lexilelevel  \n",
       "0  Hispanic or Latino    840  between_6_yrs_fr  \n",
       "1  Hispanic or Latino    755  below_gl_4_6_yrs  \n",
       "2  Hispanic or Latino    760  between_6_yrs_fr  "
      ]
     },
     "execution_count": 5,
     "metadata": {},
     "output_type": "execute_result"
    }
   ],
   "source": [
    "df2[:3]"
   ]
  },
  {
   "cell_type": "code",
   "execution_count": 6,
   "metadata": {},
   "outputs": [],
   "source": [
    "#rename the score to pre_score \n",
    "df1.rename(columns={'score':'pre_score'}, inplace=True)\n",
    "df2.rename(columns={'score':'interim_score'}, inplace=True)"
   ]
  },
  {
   "cell_type": "code",
   "execution_count": 7,
   "metadata": {},
   "outputs": [
    {
     "data": {
      "text/plain": [
       "((12626, 11), (12508, 11))"
      ]
     },
     "execution_count": 7,
     "metadata": {},
     "output_type": "execute_result"
    }
   ],
   "source": [
    "# Print the shape of both dataframes\n",
    "df1.shape, df2.shape"
   ]
  },
  {
   "cell_type": "markdown",
   "metadata": {},
   "source": [
    "> We are dealing with an imbalanced dataset. Let us check further after merging the pre-test scores and interim scores dataframes"
   ]
  },
  {
   "cell_type": "markdown",
   "metadata": {},
   "source": [
    "#### Merge"
   ]
  },
  {
   "cell_type": "code",
   "execution_count": 8,
   "metadata": {},
   "outputs": [
    {
     "data": {
      "text/html": [
       "<div>\n",
       "<style scoped>\n",
       "    .dataframe tbody tr th:only-of-type {\n",
       "        vertical-align: middle;\n",
       "    }\n",
       "\n",
       "    .dataframe tbody tr th {\n",
       "        vertical-align: top;\n",
       "    }\n",
       "\n",
       "    .dataframe thead th {\n",
       "        text-align: right;\n",
       "    }\n",
       "</style>\n",
       "<table border=\"1\" class=\"dataframe\">\n",
       "  <thead>\n",
       "    <tr style=\"text-align: right;\">\n",
       "      <th></th>\n",
       "      <th>adminyear</th>\n",
       "      <th>administrationtype</th>\n",
       "      <th>schoolshort</th>\n",
       "      <th>studentid</th>\n",
       "      <th>gradelevelduringadminyear</th>\n",
       "      <th>ell</th>\n",
       "      <th>lunch_recode</th>\n",
       "      <th>sped_recode</th>\n",
       "      <th>ethnicity_recode</th>\n",
       "      <th>pre_score</th>\n",
       "      <th>...</th>\n",
       "      <th>adminyear_y</th>\n",
       "      <th>administrationtype_y</th>\n",
       "      <th>schoolshort_y</th>\n",
       "      <th>gradelevelduringadminyear_y</th>\n",
       "      <th>ell_y</th>\n",
       "      <th>lunch_recode_y</th>\n",
       "      <th>sped_recode_y</th>\n",
       "      <th>ethnicity_recode_y</th>\n",
       "      <th>interim_score</th>\n",
       "      <th>lexilelevel_y</th>\n",
       "    </tr>\n",
       "  </thead>\n",
       "  <tbody>\n",
       "    <tr>\n",
       "      <th>0</th>\n",
       "      <td>1718.0</td>\n",
       "      <td>Pretest</td>\n",
       "      <td>BLOOMFIELD</td>\n",
       "      <td>455857</td>\n",
       "      <td>12.0</td>\n",
       "      <td>EL</td>\n",
       "      <td>Free/Reduced</td>\n",
       "      <td>Special Education</td>\n",
       "      <td>Hispanic or Latino</td>\n",
       "      <td>385.0</td>\n",
       "      <td>...</td>\n",
       "      <td>1718.0</td>\n",
       "      <td>Interim</td>\n",
       "      <td>BLOOMFIELD</td>\n",
       "      <td>12.0</td>\n",
       "      <td>EL</td>\n",
       "      <td>Free/Reduced</td>\n",
       "      <td>Special Education</td>\n",
       "      <td>Hispanic or Latino</td>\n",
       "      <td>450.0</td>\n",
       "      <td>between_6_yrs_fr</td>\n",
       "    </tr>\n",
       "    <tr>\n",
       "      <th>1</th>\n",
       "      <td>1718.0</td>\n",
       "      <td>Pretest</td>\n",
       "      <td>BLOOMFIELD</td>\n",
       "      <td>455869</td>\n",
       "      <td>12.0</td>\n",
       "      <td>IFEP</td>\n",
       "      <td>Free/Reduced</td>\n",
       "      <td>Special Education</td>\n",
       "      <td>Hispanic or Latino</td>\n",
       "      <td>975.0</td>\n",
       "      <td>...</td>\n",
       "      <td>1718.0</td>\n",
       "      <td>Interim</td>\n",
       "      <td>BLOOMFIELD</td>\n",
       "      <td>12.0</td>\n",
       "      <td>IFEP</td>\n",
       "      <td>Free/Reduced</td>\n",
       "      <td>Special Education</td>\n",
       "      <td>Hispanic or Latino</td>\n",
       "      <td>955.0</td>\n",
       "      <td>below_gl_4_6_yrs</td>\n",
       "    </tr>\n",
       "    <tr>\n",
       "      <th>2</th>\n",
       "      <td>1718.0</td>\n",
       "      <td>Pretest</td>\n",
       "      <td>BLOOMFIELD</td>\n",
       "      <td>455893</td>\n",
       "      <td>12.0</td>\n",
       "      <td>RFEP</td>\n",
       "      <td>Free/Reduced</td>\n",
       "      <td>Non-Special Education</td>\n",
       "      <td>Hispanic or Latino</td>\n",
       "      <td>1205.0</td>\n",
       "      <td>...</td>\n",
       "      <td>1718.0</td>\n",
       "      <td>Interim</td>\n",
       "      <td>BLOOMFIELD</td>\n",
       "      <td>12.0</td>\n",
       "      <td>RFEP</td>\n",
       "      <td>Free/Reduced</td>\n",
       "      <td>Non-Special Education</td>\n",
       "      <td>Hispanic or Latino</td>\n",
       "      <td>1225.0</td>\n",
       "      <td>grade_level</td>\n",
       "    </tr>\n",
       "    <tr>\n",
       "      <th>3</th>\n",
       "      <td>1718.0</td>\n",
       "      <td>Pretest</td>\n",
       "      <td>BLOOMFIELD</td>\n",
       "      <td>455917</td>\n",
       "      <td>12.0</td>\n",
       "      <td>RFEP</td>\n",
       "      <td>Free/Reduced</td>\n",
       "      <td>Non-Special Education</td>\n",
       "      <td>Hispanic or Latino</td>\n",
       "      <td>915.0</td>\n",
       "      <td>...</td>\n",
       "      <td>1718.0</td>\n",
       "      <td>Interim</td>\n",
       "      <td>BLOOMFIELD</td>\n",
       "      <td>12.0</td>\n",
       "      <td>RFEP</td>\n",
       "      <td>Free/Reduced</td>\n",
       "      <td>Non-Special Education</td>\n",
       "      <td>Hispanic or Latino</td>\n",
       "      <td>1005.0</td>\n",
       "      <td>below_gl_4_6_yrs</td>\n",
       "    </tr>\n",
       "    <tr>\n",
       "      <th>4</th>\n",
       "      <td>1718.0</td>\n",
       "      <td>Pretest</td>\n",
       "      <td>COLLINS</td>\n",
       "      <td>455929</td>\n",
       "      <td>12.0</td>\n",
       "      <td>EO</td>\n",
       "      <td>Free/Reduced</td>\n",
       "      <td>Non-Special Education</td>\n",
       "      <td>Hispanic or Latino</td>\n",
       "      <td>650.0</td>\n",
       "      <td>...</td>\n",
       "      <td>1718.0</td>\n",
       "      <td>Interim</td>\n",
       "      <td>COLLINS</td>\n",
       "      <td>12.0</td>\n",
       "      <td>EO</td>\n",
       "      <td>Free/Reduced</td>\n",
       "      <td>Non-Special Education</td>\n",
       "      <td>Hispanic or Latino</td>\n",
       "      <td>690.0</td>\n",
       "      <td>between_6_yrs_fr</td>\n",
       "    </tr>\n",
       "  </tbody>\n",
       "</table>\n",
       "<p>5 rows × 21 columns</p>\n",
       "</div>"
      ],
      "text/plain": [
       "   adminyear administrationtype schoolshort  studentid  \\\n",
       "0     1718.0            Pretest  BLOOMFIELD     455857   \n",
       "1     1718.0            Pretest  BLOOMFIELD     455869   \n",
       "2     1718.0            Pretest  BLOOMFIELD     455893   \n",
       "3     1718.0            Pretest  BLOOMFIELD     455917   \n",
       "4     1718.0            Pretest     COLLINS     455929   \n",
       "\n",
       "   gradelevelduringadminyear   ell  lunch_recode            sped_recode  \\\n",
       "0                       12.0    EL  Free/Reduced      Special Education   \n",
       "1                       12.0  IFEP  Free/Reduced      Special Education   \n",
       "2                       12.0  RFEP  Free/Reduced  Non-Special Education   \n",
       "3                       12.0  RFEP  Free/Reduced  Non-Special Education   \n",
       "4                       12.0    EO  Free/Reduced  Non-Special Education   \n",
       "\n",
       "     ethnicity_recode  pre_score        ...        adminyear_y  \\\n",
       "0  Hispanic or Latino      385.0        ...             1718.0   \n",
       "1  Hispanic or Latino      975.0        ...             1718.0   \n",
       "2  Hispanic or Latino     1205.0        ...             1718.0   \n",
       "3  Hispanic or Latino      915.0        ...             1718.0   \n",
       "4  Hispanic or Latino      650.0        ...             1718.0   \n",
       "\n",
       "   administrationtype_y schoolshort_y gradelevelduringadminyear_y  ell_y  \\\n",
       "0               Interim    BLOOMFIELD                        12.0     EL   \n",
       "1               Interim    BLOOMFIELD                        12.0   IFEP   \n",
       "2               Interim    BLOOMFIELD                        12.0   RFEP   \n",
       "3               Interim    BLOOMFIELD                        12.0   RFEP   \n",
       "4               Interim       COLLINS                        12.0     EO   \n",
       "\n",
       "  lunch_recode_y          sped_recode_y  ethnicity_recode_y interim_score  \\\n",
       "0   Free/Reduced      Special Education  Hispanic or Latino         450.0   \n",
       "1   Free/Reduced      Special Education  Hispanic or Latino         955.0   \n",
       "2   Free/Reduced  Non-Special Education  Hispanic or Latino        1225.0   \n",
       "3   Free/Reduced  Non-Special Education  Hispanic or Latino        1005.0   \n",
       "4   Free/Reduced  Non-Special Education  Hispanic or Latino         690.0   \n",
       "\n",
       "      lexilelevel_y  \n",
       "0  between_6_yrs_fr  \n",
       "1  below_gl_4_6_yrs  \n",
       "2       grade_level  \n",
       "3  below_gl_4_6_yrs  \n",
       "4  between_6_yrs_fr  \n",
       "\n",
       "[5 rows x 21 columns]"
      ]
     },
     "execution_count": 8,
     "metadata": {},
     "output_type": "execute_result"
    }
   ],
   "source": [
    "#outer merge to capture students that have pre-scores but no interim and vice versa\n",
    "df = pd.merge(df1, df2, on='studentid',how='outer',suffixes=('', '_y'))\n",
    "df.head()"
   ]
  },
  {
   "cell_type": "markdown",
   "metadata": {},
   "source": [
    "---\n",
    "#### Check for Missing Values"
   ]
  },
  {
   "cell_type": "code",
   "execution_count": 10,
   "metadata": {},
   "outputs": [
    {
     "data": {
      "text/html": [
       "<div>\n",
       "<style scoped>\n",
       "    .dataframe tbody tr th:only-of-type {\n",
       "        vertical-align: middle;\n",
       "    }\n",
       "\n",
       "    .dataframe tbody tr th {\n",
       "        vertical-align: top;\n",
       "    }\n",
       "\n",
       "    .dataframe thead th {\n",
       "        text-align: right;\n",
       "    }\n",
       "</style>\n",
       "<table border=\"1\" class=\"dataframe\">\n",
       "  <thead>\n",
       "    <tr style=\"text-align: right;\">\n",
       "      <th></th>\n",
       "      <th>12751</th>\n",
       "      <th>12752</th>\n",
       "      <th>12753</th>\n",
       "      <th>12754</th>\n",
       "      <th>12755</th>\n",
       "    </tr>\n",
       "  </thead>\n",
       "  <tbody>\n",
       "    <tr>\n",
       "      <th>adminyear</th>\n",
       "      <td>NaN</td>\n",
       "      <td>NaN</td>\n",
       "      <td>NaN</td>\n",
       "      <td>NaN</td>\n",
       "      <td>NaN</td>\n",
       "    </tr>\n",
       "    <tr>\n",
       "      <th>administrationtype</th>\n",
       "      <td>NaN</td>\n",
       "      <td>NaN</td>\n",
       "      <td>NaN</td>\n",
       "      <td>NaN</td>\n",
       "      <td>NaN</td>\n",
       "    </tr>\n",
       "    <tr>\n",
       "      <th>schoolshort</th>\n",
       "      <td>NaN</td>\n",
       "      <td>NaN</td>\n",
       "      <td>NaN</td>\n",
       "      <td>NaN</td>\n",
       "      <td>NaN</td>\n",
       "    </tr>\n",
       "    <tr>\n",
       "      <th>studentid</th>\n",
       "      <td>303169</td>\n",
       "      <td>270781</td>\n",
       "      <td>408229</td>\n",
       "      <td>800725</td>\n",
       "      <td>800773</td>\n",
       "    </tr>\n",
       "    <tr>\n",
       "      <th>gradelevelduringadminyear</th>\n",
       "      <td>NaN</td>\n",
       "      <td>NaN</td>\n",
       "      <td>NaN</td>\n",
       "      <td>NaN</td>\n",
       "      <td>NaN</td>\n",
       "    </tr>\n",
       "    <tr>\n",
       "      <th>ell</th>\n",
       "      <td>NaN</td>\n",
       "      <td>NaN</td>\n",
       "      <td>NaN</td>\n",
       "      <td>NaN</td>\n",
       "      <td>NaN</td>\n",
       "    </tr>\n",
       "    <tr>\n",
       "      <th>lunch_recode</th>\n",
       "      <td>NaN</td>\n",
       "      <td>NaN</td>\n",
       "      <td>NaN</td>\n",
       "      <td>NaN</td>\n",
       "      <td>NaN</td>\n",
       "    </tr>\n",
       "    <tr>\n",
       "      <th>sped_recode</th>\n",
       "      <td>NaN</td>\n",
       "      <td>NaN</td>\n",
       "      <td>NaN</td>\n",
       "      <td>NaN</td>\n",
       "      <td>NaN</td>\n",
       "    </tr>\n",
       "    <tr>\n",
       "      <th>ethnicity_recode</th>\n",
       "      <td>NaN</td>\n",
       "      <td>NaN</td>\n",
       "      <td>NaN</td>\n",
       "      <td>NaN</td>\n",
       "      <td>NaN</td>\n",
       "    </tr>\n",
       "    <tr>\n",
       "      <th>pre_score</th>\n",
       "      <td>NaN</td>\n",
       "      <td>NaN</td>\n",
       "      <td>NaN</td>\n",
       "      <td>NaN</td>\n",
       "      <td>NaN</td>\n",
       "    </tr>\n",
       "    <tr>\n",
       "      <th>lexilelevel</th>\n",
       "      <td>NaN</td>\n",
       "      <td>NaN</td>\n",
       "      <td>NaN</td>\n",
       "      <td>NaN</td>\n",
       "      <td>NaN</td>\n",
       "    </tr>\n",
       "    <tr>\n",
       "      <th>adminyear_y</th>\n",
       "      <td>1718</td>\n",
       "      <td>1718</td>\n",
       "      <td>1718</td>\n",
       "      <td>1718</td>\n",
       "      <td>1718</td>\n",
       "    </tr>\n",
       "    <tr>\n",
       "      <th>administrationtype_y</th>\n",
       "      <td>Interim</td>\n",
       "      <td>Interim</td>\n",
       "      <td>Interim</td>\n",
       "      <td>Interim</td>\n",
       "      <td>Interim</td>\n",
       "    </tr>\n",
       "    <tr>\n",
       "      <th>schoolshort_y</th>\n",
       "      <td>OUCHI</td>\n",
       "      <td>OUCHI</td>\n",
       "      <td>OUCHI</td>\n",
       "      <td>OUCHI</td>\n",
       "      <td>OUCHI</td>\n",
       "    </tr>\n",
       "    <tr>\n",
       "      <th>gradelevelduringadminyear_y</th>\n",
       "      <td>10</td>\n",
       "      <td>12</td>\n",
       "      <td>9</td>\n",
       "      <td>9</td>\n",
       "      <td>10</td>\n",
       "    </tr>\n",
       "    <tr>\n",
       "      <th>ell_y</th>\n",
       "      <td>El</td>\n",
       "      <td>RFEP</td>\n",
       "      <td>EO</td>\n",
       "      <td>El</td>\n",
       "      <td>EO</td>\n",
       "    </tr>\n",
       "    <tr>\n",
       "      <th>lunch_recode_y</th>\n",
       "      <td>Paid</td>\n",
       "      <td>Paid</td>\n",
       "      <td>Free/Reduced</td>\n",
       "      <td>Paid</td>\n",
       "      <td>Paid</td>\n",
       "    </tr>\n",
       "    <tr>\n",
       "      <th>sped_recode_y</th>\n",
       "      <td>Non-Special Education</td>\n",
       "      <td>Non-Special Education</td>\n",
       "      <td>Non-Special Education</td>\n",
       "      <td>Special Education</td>\n",
       "      <td>Non-Special Education</td>\n",
       "    </tr>\n",
       "    <tr>\n",
       "      <th>ethnicity_recode_y</th>\n",
       "      <td>Hispanic or Latino</td>\n",
       "      <td>Hispanic or Latino</td>\n",
       "      <td>Hispanic or Latino</td>\n",
       "      <td>Hispanic or Latino</td>\n",
       "      <td>Black or African American</td>\n",
       "    </tr>\n",
       "    <tr>\n",
       "      <th>interim_score</th>\n",
       "      <td>380</td>\n",
       "      <td>1320</td>\n",
       "      <td>890</td>\n",
       "      <td>690</td>\n",
       "      <td>890</td>\n",
       "    </tr>\n",
       "    <tr>\n",
       "      <th>lexilelevel_y</th>\n",
       "      <td>foundational_reader</td>\n",
       "      <td>college_ready</td>\n",
       "      <td>below_gl_4_6_yrs</td>\n",
       "      <td>between_6_yrs_fr</td>\n",
       "      <td>below_gl_4_6_yrs</td>\n",
       "    </tr>\n",
       "  </tbody>\n",
       "</table>\n",
       "</div>"
      ],
      "text/plain": [
       "                                             12751                  12752  \\\n",
       "adminyear                                      NaN                    NaN   \n",
       "administrationtype                             NaN                    NaN   \n",
       "schoolshort                                    NaN                    NaN   \n",
       "studentid                                   303169                 270781   \n",
       "gradelevelduringadminyear                      NaN                    NaN   \n",
       "ell                                            NaN                    NaN   \n",
       "lunch_recode                                   NaN                    NaN   \n",
       "sped_recode                                    NaN                    NaN   \n",
       "ethnicity_recode                               NaN                    NaN   \n",
       "pre_score                                      NaN                    NaN   \n",
       "lexilelevel                                    NaN                    NaN   \n",
       "adminyear_y                                   1718                   1718   \n",
       "administrationtype_y                       Interim                Interim   \n",
       "schoolshort_y                                OUCHI                  OUCHI   \n",
       "gradelevelduringadminyear_y                     10                     12   \n",
       "ell_y                                           El                   RFEP   \n",
       "lunch_recode_y                                Paid                   Paid   \n",
       "sped_recode_y                Non-Special Education  Non-Special Education   \n",
       "ethnicity_recode_y              Hispanic or Latino     Hispanic or Latino   \n",
       "interim_score                                  380                   1320   \n",
       "lexilelevel_y                  foundational_reader          college_ready   \n",
       "\n",
       "                                             12753               12754  \\\n",
       "adminyear                                      NaN                 NaN   \n",
       "administrationtype                             NaN                 NaN   \n",
       "schoolshort                                    NaN                 NaN   \n",
       "studentid                                   408229              800725   \n",
       "gradelevelduringadminyear                      NaN                 NaN   \n",
       "ell                                            NaN                 NaN   \n",
       "lunch_recode                                   NaN                 NaN   \n",
       "sped_recode                                    NaN                 NaN   \n",
       "ethnicity_recode                               NaN                 NaN   \n",
       "pre_score                                      NaN                 NaN   \n",
       "lexilelevel                                    NaN                 NaN   \n",
       "adminyear_y                                   1718                1718   \n",
       "administrationtype_y                       Interim             Interim   \n",
       "schoolshort_y                                OUCHI               OUCHI   \n",
       "gradelevelduringadminyear_y                      9                   9   \n",
       "ell_y                                           EO                  El   \n",
       "lunch_recode_y                        Free/Reduced                Paid   \n",
       "sped_recode_y                Non-Special Education   Special Education   \n",
       "ethnicity_recode_y              Hispanic or Latino  Hispanic or Latino   \n",
       "interim_score                                  890                 690   \n",
       "lexilelevel_y                     below_gl_4_6_yrs    between_6_yrs_fr   \n",
       "\n",
       "                                                 12755  \n",
       "adminyear                                          NaN  \n",
       "administrationtype                                 NaN  \n",
       "schoolshort                                        NaN  \n",
       "studentid                                       800773  \n",
       "gradelevelduringadminyear                          NaN  \n",
       "ell                                                NaN  \n",
       "lunch_recode                                       NaN  \n",
       "sped_recode                                        NaN  \n",
       "ethnicity_recode                                   NaN  \n",
       "pre_score                                          NaN  \n",
       "lexilelevel                                        NaN  \n",
       "adminyear_y                                       1718  \n",
       "administrationtype_y                           Interim  \n",
       "schoolshort_y                                    OUCHI  \n",
       "gradelevelduringadminyear_y                         10  \n",
       "ell_y                                               EO  \n",
       "lunch_recode_y                                    Paid  \n",
       "sped_recode_y                    Non-Special Education  \n",
       "ethnicity_recode_y           Black or African American  \n",
       "interim_score                                      890  \n",
       "lexilelevel_y                         below_gl_4_6_yrs  "
      ]
     },
     "execution_count": 10,
     "metadata": {},
     "output_type": "execute_result"
    }
   ],
   "source": [
    "#print all rows with missing values\n",
    "df[df.isnull().any(axis=1)].tail().T"
   ]
  },
  {
   "cell_type": "code",
   "execution_count": 11,
   "metadata": {},
   "outputs": [],
   "source": [
    "# Clean up missing values in multiple DataFrame columns\n",
    "# use the values from df2 to filled-in the missing values on _x columns\n",
    "#this are from students that have pre_scores but no interim scores\n",
    "df = df.fillna({\n",
    "    'schoolshort': df.schoolshort_y,\n",
    "    'gradelevelduringadminyear': df.gradelevelduringadminyear_y,\n",
    "    'ell': df.ell_y,\n",
    "    'lunch_recode': df.lunch_recode_y,\n",
    "    'sped_recode': df.sped_recode_y,\n",
    "    'ethnicity_recode': df.ethnicity_recode_y,\n",
    "    'lexilelevel': df.lexilelevel_y,\n",
    "    'pre_score': np.zeros,\n",
    "    'interim_score': np.zeros\n",
    "})"
   ]
  },
  {
   "cell_type": "code",
   "execution_count": 12,
   "metadata": {},
   "outputs": [
    {
     "data": {
      "text/plain": [
       "adminyear                      130\n",
       "administrationtype             130\n",
       "schoolshort                      0\n",
       "studentid                        0\n",
       "gradelevelduringadminyear        0\n",
       "ell                              0\n",
       "lunch_recode                     0\n",
       "sped_recode                      0\n",
       "ethnicity_recode                 0\n",
       "pre_score                        0\n",
       "lexilelevel                      0\n",
       "adminyear_y                    248\n",
       "administrationtype_y           248\n",
       "schoolshort_y                  248\n",
       "gradelevelduringadminyear_y    248\n",
       "ell_y                          248\n",
       "lunch_recode_y                 248\n",
       "sped_recode_y                  248\n",
       "ethnicity_recode_y             248\n",
       "interim_score                    0\n",
       "lexilelevel_y                  248\n",
       "dtype: int64"
      ]
     },
     "execution_count": 12,
     "metadata": {},
     "output_type": "execute_result"
    }
   ],
   "source": [
    "#check for total number of null values on each series within the dataframe\n",
    "df.isnull().sum()"
   ]
  },
  {
   "cell_type": "code",
   "execution_count": 13,
   "metadata": {},
   "outputs": [],
   "source": [
    "#drop all columns that we didn't infer the null values with data since we don't need redundancy\n",
    "df.dropna(axis=1, inplace=True)"
   ]
  },
  {
   "cell_type": "markdown",
   "metadata": {},
   "source": [
    "#### Check for Duplicates"
   ]
  },
  {
   "cell_type": "code",
   "execution_count": 18,
   "metadata": {},
   "outputs": [
    {
     "data": {
      "text/plain": [
       "0"
      ]
     },
     "execution_count": 18,
     "metadata": {},
     "output_type": "execute_result"
    }
   ],
   "source": [
    "# Count the number of duplicates ased on student ID\n",
    "df.studentid.duplicated(keep='first').sum()"
   ]
  },
  {
   "cell_type": "markdown",
   "metadata": {},
   "source": [
    "#### Saved Process File"
   ]
  },
  {
   "cell_type": "code",
   "execution_count": 14,
   "metadata": {},
   "outputs": [
    {
     "data": {
      "text/html": [
       "<div>\n",
       "<style scoped>\n",
       "    .dataframe tbody tr th:only-of-type {\n",
       "        vertical-align: middle;\n",
       "    }\n",
       "\n",
       "    .dataframe tbody tr th {\n",
       "        vertical-align: top;\n",
       "    }\n",
       "\n",
       "    .dataframe thead th {\n",
       "        text-align: right;\n",
       "    }\n",
       "</style>\n",
       "<table border=\"1\" class=\"dataframe\">\n",
       "  <thead>\n",
       "    <tr style=\"text-align: right;\">\n",
       "      <th></th>\n",
       "      <th>schoolshort</th>\n",
       "      <th>studentid</th>\n",
       "      <th>gradelevelduringadminyear</th>\n",
       "      <th>ell</th>\n",
       "      <th>lunch_recode</th>\n",
       "      <th>sped_recode</th>\n",
       "      <th>ethnicity_recode</th>\n",
       "      <th>pre_score</th>\n",
       "      <th>lexilelevel</th>\n",
       "      <th>interim_score</th>\n",
       "    </tr>\n",
       "  </thead>\n",
       "  <tbody>\n",
       "    <tr>\n",
       "      <th>0</th>\n",
       "      <td>BLOOMFIELD</td>\n",
       "      <td>455857</td>\n",
       "      <td>12.0</td>\n",
       "      <td>EL</td>\n",
       "      <td>Free/Reduced</td>\n",
       "      <td>Special Education</td>\n",
       "      <td>Hispanic or Latino</td>\n",
       "      <td>385</td>\n",
       "      <td>foundational_reader</td>\n",
       "      <td>450</td>\n",
       "    </tr>\n",
       "    <tr>\n",
       "      <th>1</th>\n",
       "      <td>BLOOMFIELD</td>\n",
       "      <td>455869</td>\n",
       "      <td>12.0</td>\n",
       "      <td>IFEP</td>\n",
       "      <td>Free/Reduced</td>\n",
       "      <td>Special Education</td>\n",
       "      <td>Hispanic or Latino</td>\n",
       "      <td>975</td>\n",
       "      <td>below_gl_4_6_yrs</td>\n",
       "      <td>955</td>\n",
       "    </tr>\n",
       "    <tr>\n",
       "      <th>2</th>\n",
       "      <td>BLOOMFIELD</td>\n",
       "      <td>455893</td>\n",
       "      <td>12.0</td>\n",
       "      <td>RFEP</td>\n",
       "      <td>Free/Reduced</td>\n",
       "      <td>Non-Special Education</td>\n",
       "      <td>Hispanic or Latino</td>\n",
       "      <td>1205</td>\n",
       "      <td>grade_level</td>\n",
       "      <td>1225</td>\n",
       "    </tr>\n",
       "    <tr>\n",
       "      <th>3</th>\n",
       "      <td>BLOOMFIELD</td>\n",
       "      <td>455917</td>\n",
       "      <td>12.0</td>\n",
       "      <td>RFEP</td>\n",
       "      <td>Free/Reduced</td>\n",
       "      <td>Non-Special Education</td>\n",
       "      <td>Hispanic or Latino</td>\n",
       "      <td>915</td>\n",
       "      <td>between_6_yrs_fr</td>\n",
       "      <td>1005</td>\n",
       "    </tr>\n",
       "    <tr>\n",
       "      <th>4</th>\n",
       "      <td>COLLINS</td>\n",
       "      <td>455929</td>\n",
       "      <td>12.0</td>\n",
       "      <td>EO</td>\n",
       "      <td>Free/Reduced</td>\n",
       "      <td>Non-Special Education</td>\n",
       "      <td>Hispanic or Latino</td>\n",
       "      <td>650</td>\n",
       "      <td>between_6_yrs_fr</td>\n",
       "      <td>690</td>\n",
       "    </tr>\n",
       "  </tbody>\n",
       "</table>\n",
       "</div>"
      ],
      "text/plain": [
       "  schoolshort  studentid  gradelevelduringadminyear   ell  lunch_recode  \\\n",
       "0  BLOOMFIELD     455857                       12.0    EL  Free/Reduced   \n",
       "1  BLOOMFIELD     455869                       12.0  IFEP  Free/Reduced   \n",
       "2  BLOOMFIELD     455893                       12.0  RFEP  Free/Reduced   \n",
       "3  BLOOMFIELD     455917                       12.0  RFEP  Free/Reduced   \n",
       "4     COLLINS     455929                       12.0    EO  Free/Reduced   \n",
       "\n",
       "             sped_recode    ethnicity_recode pre_score          lexilelevel  \\\n",
       "0      Special Education  Hispanic or Latino       385  foundational_reader   \n",
       "1      Special Education  Hispanic or Latino       975     below_gl_4_6_yrs   \n",
       "2  Non-Special Education  Hispanic or Latino      1205          grade_level   \n",
       "3  Non-Special Education  Hispanic or Latino       915     between_6_yrs_fr   \n",
       "4  Non-Special Education  Hispanic or Latino       650     between_6_yrs_fr   \n",
       "\n",
       "  interim_score  \n",
       "0           450  \n",
       "1           955  \n",
       "2          1225  \n",
       "3          1005  \n",
       "4           690  "
      ]
     },
     "execution_count": 14,
     "metadata": {},
     "output_type": "execute_result"
    }
   ],
   "source": [
    "#save process merge file to the process directory\n",
    "df.to_csv('data/process/pre_interim_studentscores.csv')\n",
    "df[:5]"
   ]
  },
  {
   "cell_type": "code",
   "execution_count": 15,
   "metadata": {},
   "outputs": [
    {
     "data": {
      "text/plain": [
       "(12756, 10)"
      ]
     },
     "execution_count": 15,
     "metadata": {},
     "output_type": "execute_result"
    }
   ],
   "source": [
    "df.shape"
   ]
  },
  {
   "cell_type": "markdown",
   "metadata": {},
   "source": [
    "#### Get the List where Students have Pre-Test but don't have Interim Score"
   ]
  },
  {
   "cell_type": "code",
   "execution_count": null,
   "metadata": {},
   "outputs": [],
   "source": [
    "#check studentid from df1 if its not df2\n",
    "number_student"
   ]
  },
  {
   "cell_type": "code",
   "execution_count": null,
   "metadata": {},
   "outputs": [],
   "source": [
    "print('Total Number of Students that have pre_score but no interim score: {}'.format(len(n_df1.index)))"
   ]
  },
  {
   "cell_type": "markdown",
   "metadata": {},
   "source": [
    "#### Get the List where Students have Interim Score but didn't have the Pre-Score"
   ]
  },
  {
   "cell_type": "code",
   "execution_count": null,
   "metadata": {},
   "outputs": [],
   "source": [
    "#check studentid from df2 if its not df1\n",
    "n_df2= df2[~df2.index.isin(df1.index)].dropna()\n",
    "n_df2[:5]"
   ]
  },
  {
   "cell_type": "code",
   "execution_count": null,
   "metadata": {},
   "outputs": [],
   "source": [
    "print('Total Number of Students that have interim_score but no pre_score: {}'.format(len(n_df2)))"
   ]
  },
  {
   "cell_type": "markdown",
   "metadata": {},
   "source": [
    "#### Check our distributions"
   ]
  },
  {
   "cell_type": "markdown",
   "metadata": {},
   "source": [
    "#### Memory Optimization"
   ]
  },
  {
   "cell_type": "code",
   "execution_count": null,
   "metadata": {},
   "outputs": [],
   "source": [
    "#gets the memory usage occupied by the reference including the stored string for the country\n",
    "df1.memory_usage(deep=True)"
   ]
  },
  {
   "cell_type": "code",
   "execution_count": null,
   "metadata": {},
   "outputs": [],
   "source": [
    "# get memory space to include both data and reference pointer\n",
    "df1.info(memory_usage='deep')"
   ]
  },
  {
   "cell_type": "code",
   "execution_count": null,
   "metadata": {},
   "outputs": [],
   "source": [
    "#get ehe actual memory usage\n",
    "df1.memory_usage(deep=True).sum()"
   ]
  },
  {
   "cell_type": "code",
   "execution_count": null,
   "metadata": {},
   "outputs": [],
   "source": [
    "# check the unique data for the column\n",
    "df2.adminyear.unique()"
   ]
  },
  {
   "cell_type": "code",
   "execution_count": null,
   "metadata": {},
   "outputs": [],
   "source": [
    "year_interim = pd.to_datetime(df2.adminyear.unique()[0], format='%m%d%y')\n",
    "year_interim"
   ]
  },
  {
   "cell_type": "code",
   "execution_count": null,
   "metadata": {},
   "outputs": [],
   "source": [
    "# check the unique data for the column\n",
    "df2.administrationtype.unique()"
   ]
  },
  {
   "cell_type": "code",
   "execution_count": null,
   "metadata": {},
   "outputs": [],
   "source": [
    "#drop adminyear and administrationtype\n",
    "interim_df= df1.drop(['adminyear','administrationtype'],axis=1)\n",
    "interim_df[:5].T"
   ]
  },
  {
   "cell_type": "code",
   "execution_count": null,
   "metadata": {},
   "outputs": [],
   "source": [
    "# check the unique data for the column and number of unique items\n",
    "interim_df.schoolshort.unique(), interim_df.schoolshort.nunique()"
   ]
  },
  {
   "cell_type": "code",
   "execution_count": null,
   "metadata": {},
   "outputs": [],
   "source": [
    "interim_df.gradelevelduringadminyear.unique()"
   ]
  },
  {
   "cell_type": "code",
   "execution_count": null,
   "metadata": {},
   "outputs": [],
   "source": [
    "interim_df.ell.unique()"
   ]
  },
  {
   "cell_type": "code",
   "execution_count": null,
   "metadata": {},
   "outputs": [],
   "source": [
    "interim_df.lunch_recode.unique()"
   ]
  },
  {
   "cell_type": "code",
   "execution_count": null,
   "metadata": {},
   "outputs": [],
   "source": [
    "interim_df.sped_recode.unique()"
   ]
  },
  {
   "cell_type": "code",
   "execution_count": null,
   "metadata": {},
   "outputs": [],
   "source": [
    "interim_df.ethnicity_recode.unique(), df.ethnicity_recode.nunique()"
   ]
  },
  {
   "cell_type": "code",
   "execution_count": null,
   "metadata": {},
   "outputs": [],
   "source": [
    "interim_df.lexilelevel.unique(), df.lexilelevel.nunique()"
   ]
  },
  {
   "cell_type": "code",
   "execution_count": null,
   "metadata": {},
   "outputs": [],
   "source": [
    "cols = ['schoolshort', 'gradelevelduringadminyear',\n",
    "        'ell', 'lunch_recode', 'sped_recode',\n",
    "        'ethnicity_recode','lexilelevel']\n",
    "\n",
    "interim_df[cols]= interim_df[cols].astype('category')"
   ]
  },
  {
   "cell_type": "code",
   "execution_count": null,
   "metadata": {},
   "outputs": [],
   "source": [
    "interim_df.dtypes"
   ]
  },
  {
   "cell_type": "code",
   "execution_count": null,
   "metadata": {},
   "outputs": [],
   "source": [
    "#gets the memory usage occupied by the reference including the stored string for the country\n",
    "interim_df.memory_usage(deep=True)"
   ]
  },
  {
   "cell_type": "code",
   "execution_count": null,
   "metadata": {},
   "outputs": [],
   "source": [
    "interim_df.memory_usage(deep=True).sum()"
   ]
  },
  {
   "cell_type": "code",
   "execution_count": null,
   "metadata": {},
   "outputs": [],
   "source": [
    "# Count the number of duplciates\n",
    "df.duplicated(keep='first').sum()"
   ]
  },
  {
   "cell_type": "code",
   "execution_count": null,
   "metadata": {},
   "outputs": [],
   "source": [
    "# define our drop function\n",
    "def drop_y(df):\n",
    "    # list comprehension of the cols that end with '_y'\n",
    "    to_drop = [x for x in df if x.endswith('_y')]\n",
    "    df.drop(to_drop, axis=1, inplace=True)\n",
    "\n",
    "drop_y(merged)"
   ]
  }
 ],
 "metadata": {
  "kernelspec": {
   "display_name": "Python 3",
   "language": "python",
   "name": "python3"
  },
  "language_info": {
   "codemirror_mode": {
    "name": "ipython",
    "version": 3
   },
   "file_extension": ".py",
   "mimetype": "text/x-python",
   "name": "python",
   "nbconvert_exporter": "python",
   "pygments_lexer": "ipython3",
   "version": "3.6.5"
  }
 },
 "nbformat": 4,
 "nbformat_minor": 2
}
